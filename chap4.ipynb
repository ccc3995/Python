{
  "nbformat": 4,
  "nbformat_minor": 0,
  "metadata": {
    "colab": {
      "name": "Chap4.ipynb",
      "provenance": [],
      "collapsed_sections": [],
      "authorship_tag": "ABX9TyMRWuQtQ74ycUjQ5WvLOVRc",
      "include_colab_link": true
    },
    "kernelspec": {
      "name": "python3",
      "display_name": "Python 3"
    },
    "language_info": {
      "name": "python"
    }
  },
  "cells": [
    {
      "cell_type": "markdown",
      "metadata": {
        "id": "view-in-github",
        "colab_type": "text"
      },
      "source": [
        "<a href=\"https://colab.research.google.com/github/ccc3995/Python/blob/main/Chap4.ipynb\" target=\"_parent\"><img src=\"https://colab.research.google.com/assets/colab-badge.svg\" alt=\"Open In Colab\"/></a>"
      ]
    },
    {
      "cell_type": "markdown",
      "source": [
        "#numpy套件(numeric python)\n",
        "#為什麼需要numpy?\n",
        "\n",
        "\n",
        "* numpy由c撰寫，速度快python 10~1000倍以上\n",
        "* numpy儲存結果較正確，python數字儲存不正確\n",
        "* numpy節省記憶體儲存空間\n",
        "* numpy的向量(矩陣計算)速度快\n",
        "* numpy的取值方便"
      ],
      "metadata": {
        "id": "werejTd-Vc8E"
      }
    },
    {
      "cell_type": "code",
      "execution_count": null,
      "metadata": {
        "colab": {
          "base_uri": "https://localhost:8080/"
        },
        "id": "1WGzzBHZ30nH",
        "outputId": "9d121de3-88f8-426f-ad58-432920352f29"
      },
      "outputs": [
        {
          "output_type": "stream",
          "name": "stdout",
          "text": [
            "[1, 2, 3, 4, 5, 1, 2, 3, 4, 5, 1, 2, 3, 4, 5]\n"
          ]
        }
      ],
      "source": [
        "a_list=[1,2,3,4,5]\n",
        "print(a_list*3)"
      ]
    },
    {
      "cell_type": "code",
      "source": [
        "#numpy套件的ndarray型態,提供lement-wise的操作\n",
        "import numpy as np\n",
        "a=np.array([1,2,3,4,5])\n",
        "print(a*3)"
      ],
      "metadata": {
        "colab": {
          "base_uri": "https://localhost:8080/"
        },
        "id": "9BRKI7ub37au",
        "outputId": "5832af2a-03d7-43ad-e980-28ccf580d4f2"
      },
      "execution_count": null,
      "outputs": [
        {
          "output_type": "stream",
          "name": "stdout",
          "text": [
            "[ 3  6  9 12 15]\n"
          ]
        }
      ]
    },
    {
      "cell_type": "code",
      "source": [
        "a=np.array([1,2,3,4,5])\n",
        "print(type(a))\n",
        "print(a.shape)\n",
        "print(a.dtype)\n",
        "print(a.ndim)"
      ],
      "metadata": {
        "colab": {
          "base_uri": "https://localhost:8080/"
        },
        "id": "nCADC8jE4TP3",
        "outputId": "afbabdec-6f67-4f96-d884-342fb5262536"
      },
      "execution_count": null,
      "outputs": [
        {
          "output_type": "stream",
          "name": "stdout",
          "text": [
            "<class 'numpy.ndarray'>\n",
            "(5,)\n",
            "int64\n",
            "1\n"
          ]
        }
      ]
    },
    {
      "cell_type": "code",
      "source": [
        "import numpy as np\n",
        "z=np.zeros(6)\n",
        "print(z)\n",
        "print(np.empty((2,3,4)))\n",
        "print(np.arange(10))"
      ],
      "metadata": {
        "colab": {
          "base_uri": "https://localhost:8080/"
        },
        "id": "EDsO0LVt4mh-",
        "outputId": "9a58f73f-9864-43e9-90e8-6f7c5972d713"
      },
      "execution_count": null,
      "outputs": [
        {
          "output_type": "stream",
          "name": "stdout",
          "text": [
            "[0. 0. 0. 0. 0. 0.]\n",
            "[[[1.718286e-316 0.000000e+000 0.000000e+000 0.000000e+000]\n",
            "  [0.000000e+000 0.000000e+000 0.000000e+000 0.000000e+000]\n",
            "  [0.000000e+000 0.000000e+000 0.000000e+000 0.000000e+000]]\n",
            "\n",
            " [[0.000000e+000 0.000000e+000 0.000000e+000 0.000000e+000]\n",
            "  [0.000000e+000 0.000000e+000 0.000000e+000 0.000000e+000]\n",
            "  [0.000000e+000 0.000000e+000 0.000000e+000 0.000000e+000]]]\n",
            "[0 1 2 3 4 5 6 7 8 9]\n"
          ]
        }
      ]
    },
    {
      "cell_type": "code",
      "source": [
        "import numpy as np\n",
        "a=np.zeros([0,1,2,3,4])\n",
        "print(z)\n",
        "print(np.empty((2,3,4)))\n",
        "print(np.arange(10))"
      ],
      "metadata": {
        "id": "ntoB2wHX5gKS"
      },
      "execution_count": null,
      "outputs": []
    },
    {
      "cell_type": "markdown",
      "source": [
        "# 2維資料取值"
      ],
      "metadata": {
        "id": "pxoDVHhQ8cD-"
      }
    },
    {
      "cell_type": "code",
      "source": [
        "my_2d_array=np.array([np.arange(0,5),np.arange(5,10)])\n",
        "print(my_2d_array)\n",
        "print(my_2d_array[1,:]) #取第\"1\"维的值\n",
        "print(my_2d_array[:,1]) #取第\"0\",\"1\"维中，第\"1\"维的值\n",
        "print(my_2d_array[1,2]) #取第\"1\",\"2\"维中，第\"2\"维的值"
      ],
      "metadata": {
        "colab": {
          "base_uri": "https://localhost:8080/"
        },
        "id": "0h5h4dZu8iB_",
        "outputId": "50cb3091-4c60-4dd5-9ddc-2ac59b9c4e7b"
      },
      "execution_count": null,
      "outputs": [
        {
          "output_type": "stream",
          "name": "stdout",
          "text": [
            "[[0 1 2 3 4]\n",
            " [5 6 7 8 9]]\n",
            "[5 6 7 8 9]\n",
            "[1 6]\n",
            "7\n"
          ]
        }
      ]
    },
    {
      "cell_type": "code",
      "source": [
        "#更改維度reshape\n",
        "a=np.arange(10) #一維10個數字\n",
        "print(a)\n",
        "b=a.reshape(2,5)#更改成二維，每維5個數字\n",
        "print(b)"
      ],
      "metadata": {
        "colab": {
          "base_uri": "https://localhost:8080/"
        },
        "id": "zgqrLaSj-dPO",
        "outputId": "42a4f7da-03b5-4b77-d22b-f1ee5b1b972f"
      },
      "execution_count": null,
      "outputs": [
        {
          "output_type": "stream",
          "name": "stdout",
          "text": [
            "[0 1 2 3 4 5 6 7 8 9]\n",
            "[[0 1 2 3 4]\n",
            " [5 6 7 8 9]]\n"
          ]
        }
      ]
    },
    {
      "cell_type": "code",
      "source": [
        "my_array-np.arange(0, 10)\n",
        "print(my_array)\n",
        "print(my_array.shape)"
      ],
      "metadata": {
        "id": "DgrsW90d9H-V"
      },
      "execution_count": null,
      "outputs": []
    }
  ]
}
