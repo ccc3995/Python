{
  "nbformat": 4,
  "nbformat_minor": 0,
  "metadata": {
    "colab": {
      "name": "Untitled3.ipynb",
      "provenance": [],
      "collapsed_sections": [],
      "authorship_tag": "ABX9TyN2XWwrDH9lA/L3WB2B0RBq",
      "include_colab_link": true
    },
    "kernelspec": {
      "name": "python3",
      "display_name": "Python 3"
    },
    "language_info": {
      "name": "python"
    }
  },
  "cells": [
    {
      "cell_type": "markdown",
      "metadata": {
        "id": "view-in-github",
        "colab_type": "text"
      },
      "source": [
        "<a href=\"https://colab.research.google.com/github/ccc3995/Python/blob/main/Untitled3.ipynb\" target=\"_parent\"><img src=\"https://colab.research.google.com/assets/colab-badge.svg\" alt=\"Open In Colab\"/></a>"
      ]
    },
    {
      "cell_type": "code",
      "source": [
        "score=[90,100,88,60,79]\n",
        "print(score[0])\n",
        "print(score[1])\n",
        "for i in range(len(score)):  #len(score): score長度\n",
        "  print(score[i])"
      ],
      "metadata": {
        "colab": {
          "base_uri": "https://localhost:8080/"
        },
        "id": "oknxc7gIUgyU",
        "outputId": "4c5271c6-5437-4a0f-ca92-13babe424e88"
      },
      "execution_count": null,
      "outputs": [
        {
          "output_type": "stream",
          "name": "stdout",
          "text": [
            "90\n",
            "100\n",
            "90\n",
            "100\n",
            "88\n",
            "60\n",
            "79\n"
          ]
        }
      ]
    },
    {
      "cell_type": "code",
      "source": [
        "#score=[90,100,88,60,79]\n",
        "print(score[0:3])  #取出score[0]-score[2]，不包含score[3]\n",
        "print(score[:])   #取出所有的值\n",
        "print(score[:4])  #取出score[0]-score[3]，不包含score[4]\n",
        "print(score[2:])  #取出score[2]後面所有的值\n",
        "print(score[0:5:2]) #間隔2 \n",
        "print(score[::2])  #間隔2\n",
        "print(score[::-2])  #間隔-2，代表從列表最後往前取值，間隔2\n",
        "print(score[4:0:-2])"
      ],
      "metadata": {
        "colab": {
          "base_uri": "https://localhost:8080/"
        },
        "id": "7IkePfmcUma7",
        "outputId": "e8d19664-abed-49b4-deea-32d34667da1a"
      },
      "execution_count": null,
      "outputs": [
        {
          "output_type": "stream",
          "name": "stdout",
          "text": [
            "[90, 100, 88]\n",
            "[90, 100, 88, 60, 79]\n",
            "[90, 100, 88, 60]\n",
            "[88, 60, 79]\n",
            "[90, 88, 79]\n",
            "[90, 88, 79]\n",
            "[79, 88, 90]\n",
            "[79, 88]\n"
          ]
        }
      ]
    },
    {
      "cell_type": "code",
      "source": [
        "astr=\"abcdefghijklmnopqrstuvwxyz\"\n",
        "print(astr[0])\n",
        "print(astr[25])\n",
        "print(astr[5:20])"
      ],
      "metadata": {
        "colab": {
          "base_uri": "https://localhost:8080/"
        },
        "id": "XhwVXrAWUqRS",
        "outputId": "145ba080-8290-4354-d6bb-f9127840b7f9"
      },
      "execution_count": null,
      "outputs": [
        {
          "output_type": "stream",
          "name": "stdout",
          "text": [
            "a\n",
            "z\n",
            "fghijklmnopqrst\n"
          ]
        }
      ]
    },
    {
      "cell_type": "code",
      "source": [
        "my_list0=[]\n",
        "print(my_list0)\n",
        "my_list1=list()\n",
        "my_list2=['python','javascript','c#']\n",
        "print(my_list2)\n",
        "print(len(my_list2)) #len:計算list的長度\n",
        "print(my_list2[2])"
      ],
      "metadata": {
        "colab": {
          "base_uri": "https://localhost:8080/"
        },
        "id": "3SwlA61hUsqC",
        "outputId": "b77209d1-f354-47e0-cf19-110be206c51b"
      },
      "execution_count": null,
      "outputs": [
        {
          "output_type": "stream",
          "name": "stdout",
          "text": [
            "[]\n",
            "['python', 'javascript', 'c#']\n",
            "3\n",
            "c#\n"
          ]
        }
      ]
    },
    {
      "cell_type": "code",
      "source": [
        "my_list2=['python','javascript','c#']\n",
        "my_list2.append('java') #append:附加在最後面\n",
        "print(my_list2)\n",
        "my_list2.remove('java') #remove:移除\n",
        "print(my_list2)\n",
        "my_list2.insert(0,'java') #insert:插入物件，需要指定索引位置\n",
        "print(my_list2)\n",
        "my_list2.clear() #clear:清除所有物件\n",
        "print(my_list2)"
      ],
      "metadata": {
        "colab": {
          "base_uri": "https://localhost:8080/"
        },
        "id": "MaxYHVNWUx_7",
        "outputId": "ce6d65b4-3d1d-4fe2-ff5d-fdd0999e7821"
      },
      "execution_count": null,
      "outputs": [
        {
          "output_type": "stream",
          "name": "stdout",
          "text": [
            "['python', 'javascript', 'c#', 'java']\n",
            "['python', 'javascript', 'c#']\n",
            "['java', 'python', 'javascript', 'c#']\n",
            "[]\n"
          ]
        }
      ]
    },
    {
      "cell_type": "code",
      "source": [
        "a=[1,2,3]\n",
        "b=[4,5,6]\n",
        "c=a+b\n",
        "print(c)\n",
        "d=a*2\n",
        "print(d)"
      ],
      "metadata": {
        "colab": {
          "base_uri": "https://localhost:8080/"
        },
        "id": "fZroq8omU6Fc",
        "outputId": "866376ac-2980-4cf2-a087-07452d1d88f8"
      },
      "execution_count": null,
      "outputs": [
        {
          "output_type": "stream",
          "name": "stdout",
          "text": [
            "[1, 2, 3, 4, 5, 6]\n",
            "[1, 2, 3, 1, 2, 3]\n"
          ]
        }
      ]
    },
    {
      "cell_type": "code",
      "execution_count": null,
      "metadata": {
        "id": "RrPD9b6ZXvWf",
        "colab": {
          "base_uri": "https://localhost:8080/"
        },
        "outputId": "8c3b85ec-c963-4525-f12a-bf90c83134ff"
      },
      "outputs": [
        {
          "output_type": "stream",
          "name": "stdout",
          "text": [
            "請輸入帳號:tony\n",
            "請輸入密碼:1234\n",
            "歡迎登入\n"
          ]
        }
      ],
      "source": [
        "id=\"tony\"\n",
        "pwd=\"1234\"\n",
        "while True:\n",
        "  a=input(\"請輸入帳號:\")\n",
        "  b=input(\"請輸入密碼:\")\n",
        "  if(a==id and b==pwd):\n",
        "    print(\"歡迎登入\")\n",
        "    break\n",
        "  else:\n",
        "    print(\"帳號/密碼錯誤\")"
      ]
    }
  ]
}