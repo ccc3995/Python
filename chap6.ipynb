{
  "nbformat": 4,
  "nbformat_minor": 0,
  "metadata": {
    "colab": {
      "name": "chap 6.ipynb",
      "provenance": [],
      "collapsed_sections": [],
      "authorship_tag": "ABX9TyOKR+qQTC2CaKOZjXvAqRNm",
      "include_colab_link": true
    },
    "kernelspec": {
      "name": "python3",
      "display_name": "Python 3"
    },
    "language_info": {
      "name": "python"
    }
  },
  "cells": [
    {
      "cell_type": "markdown",
      "metadata": {
        "id": "view-in-github",
        "colab_type": "text"
      },
      "source": [
        "<a href=\"https://colab.research.google.com/github/ccc3995/Python/blob/main/chap_6.ipynb\" target=\"_parent\"><img src=\"https://colab.research.google.com/assets/colab-badge.svg\" alt=\"Open In Colab\"/></a>"
      ]
    },
    {
      "cell_type": "markdown",
      "source": [
        "# chap 6 檔案處裡\n",
        "\n",
        "\n",
        "\n",
        "*os套件:用來處理文件與目錄，與檔案相關操作\n",
        "\n"
      ],
      "metadata": {
        "id": "olQVSaBygWn2"
      }
    },
    {
      "cell_type": "code",
      "execution_count": null,
      "metadata": {
        "colab": {
          "base_uri": "https://localhost:8080/"
        },
        "id": "8ptTZZ2xgN1o",
        "outputId": "f81307d5-d15b-4768-b49e-52fba081580b"
      },
      "outputs": [
        {
          "output_type": "stream",
          "name": "stdout",
          "text": [
            "/content\n"
          ]
        }
      ],
      "source": [
        "import os\n",
        "print (os.getcwd())#獲取目前的工作目錄"
      ]
    },
    {
      "cell_type": "code",
      "source": [
        "print(os.listdir())"
      ],
      "metadata": {
        "colab": {
          "base_uri": "https://localhost:8080/"
        },
        "id": "Sjc9t9M2hHaF",
        "outputId": "c65f44f1-d8b9-4c78-e7c0-4a3da939fe7f"
      },
      "execution_count": null,
      "outputs": [
        {
          "output_type": "stream",
          "name": "stdout",
          "text": [
            "['.config', 'a.txt', 'sample_data']\n"
          ]
        }
      ]
    },
    {
      "cell_type": "code",
      "source": [
        "os.makedirs(\"test\") #在目前的目錄下，建立一個名為test的目錄\n",
        "os.listdir()"
      ],
      "metadata": {
        "colab": {
          "base_uri": "https://localhost:8080/"
        },
        "id": "kpW5eu6YjFLL",
        "outputId": "8075b552-fd3e-4f9a-d4ba-8967e305a00d"
      },
      "execution_count": null,
      "outputs": [
        {
          "output_type": "execute_result",
          "data": {
            "text/plain": [
              "['.config', 'test', 'a.txt', 'sample_data']"
            ]
          },
          "metadata": {},
          "execution_count": 67
        }
      ]
    },
    {
      "cell_type": "code",
      "source": [
        "os.rmdir(\"test\")#刪除test目錄\n",
        "os.listdir()"
      ],
      "metadata": {
        "colab": {
          "base_uri": "https://localhost:8080/"
        },
        "id": "yQzERheLjPVc",
        "outputId": "dd1bfdd8-0b70-4ef3-f39a-5872ec1159e2"
      },
      "execution_count": null,
      "outputs": [
        {
          "output_type": "execute_result",
          "data": {
            "text/plain": [
              "['.config', 'a.txt', 'sample_data']"
            ]
          },
          "metadata": {},
          "execution_count": 68
        }
      ]
    },
    {
      "cell_type": "markdown",
      "source": [
        "###檔案的開啟與寫入\n",
        "os套件有自己的開啟檔案韓式open，**但MTA認證採用的python內建的open**\n",
        "\n",
        "\n",
        "*   w = 可寫(預設建立檔案) 若檔案存在則會清除舊檔案\n",
        "\n",
        "*   w+ = 可寫可讀(預設建立檔案) 若檔案存在則會清除舊檔案\n",
        "\n",
        "*   r = 可讀\n",
        "*   r+ = 可寫可讀 但寫入資料指向開頭\n",
        "\n",
        "\n",
        "*   a = 可寫不能讀 寫入資料指向尾端\n",
        "\n",
        "\n",
        "*   a+ = 可寫可讀 寫入資料指向尾端\n",
        "\n",
        "\n",
        "*   b = 轉為2進位文件\n",
        "*   ab+ = 2進位文件的讀寫 寫入資料指向尾端\n",
        "\n"
      ],
      "metadata": {
        "id": "Z98mu-XxkNIU"
      }
    },
    {
      "cell_type": "code",
      "source": [
        "#a=open() #pthon內建開檔\n",
        "#a=os.open #os套件的開檔"
      ],
      "metadata": {
        "id": "9NikUjozkNr7"
      },
      "execution_count": null,
      "outputs": []
    },
    {
      "cell_type": "code",
      "source": [
        "#新增檔案\n",
        "a=open(\"a.txt\",\"w\")\n",
        "a.write(\"This is a test1\")\n",
        "a.write(\"This is a test2\\n\")\n",
        "a.write(\"This is a test3\\n\")\n",
        "a.close()"
      ],
      "metadata": {
        "id": "z5gX0Z76mOqO"
      },
      "execution_count": null,
      "outputs": []
    },
    {
      "cell_type": "code",
      "source": [
        "os.path.isfile(\"a.txt\")"
      ],
      "metadata": {
        "colab": {
          "base_uri": "https://localhost:8080/"
        },
        "id": "x1iLB78cmvi-",
        "outputId": "1a8f501a-9291-4519-9d4e-0b48ad40ef39"
      },
      "execution_count": null,
      "outputs": [
        {
          "output_type": "execute_result",
          "data": {
            "text/plain": [
              "True"
            ]
          },
          "metadata": {},
          "execution_count": 71
        }
      ]
    },
    {
      "cell_type": "code",
      "source": [
        "if os.path.isfile(\"a.txt\"):\n",
        "  a=open(\"a.txt\",\"r\")\n",
        "  print(a.readline()) #readline()一次讀一行\n",
        "  print(a.readline())\n",
        "  a.close()\n",
        "else:\n",
        "  print(\"檔案不存在\")"
      ],
      "metadata": {
        "colab": {
          "base_uri": "https://localhost:8080/"
        },
        "id": "6eTQHgxEttx4",
        "outputId": "f27dd7f2-76a8-4b0c-811a-8967a544d1e1"
      },
      "execution_count": null,
      "outputs": [
        {
          "output_type": "stream",
          "name": "stdout",
          "text": [
            "This is a test1This is a test2\n",
            "\n",
            "This is a test3\n",
            "\n"
          ]
        }
      ]
    },
    {
      "cell_type": "code",
      "source": [
        "if os.path.isfile(\"a.txt\"):\n",
        "  a=open(\"a.txt\",\"r\")\n",
        "  for line in a: #一行一行讀取a檔案\n",
        "    print(line)#根據\" \"(空白)\"來切割每一行\n",
        "  a.close()\n",
        "else:\n",
        "  print(\"檔案不存在\")"
      ],
      "metadata": {
        "colab": {
          "base_uri": "https://localhost:8080/"
        },
        "id": "RMrrovf-sPcI",
        "outputId": "f9a693a8-b48a-4d66-bb81-dc6a2f54be3c"
      },
      "execution_count": null,
      "outputs": [
        {
          "output_type": "stream",
          "name": "stdout",
          "text": [
            "This is a test1This is a test2\n",
            "\n",
            "This is a test3\n",
            "\n"
          ]
        }
      ]
    },
    {
      "cell_type": "markdown",
      "source": [
        "###附加檔案"
      ],
      "metadata": {
        "id": "CAl2ckIdviEe"
      }
    },
    {
      "cell_type": "code",
      "source": [
        "a=open(\"a.txt\",\"a\") #在檔案的尾巴加上資料\n",
        "a.write(\"This is a test4\\n\")\n",
        "a.close()"
      ],
      "metadata": {
        "id": "k7IBk0Bqvnkm"
      },
      "execution_count": null,
      "outputs": []
    },
    {
      "cell_type": "code",
      "source": [
        "a=open(\"a.txt\",\"r\")\n",
        "print(a.readlines())  #讀取所有行\n",
        "a.close()"
      ],
      "metadata": {
        "colab": {
          "base_uri": "https://localhost:8080/"
        },
        "id": "0FfDsjyHwCgW",
        "outputId": "9dd85db7-01ca-4bfa-b9cd-d0db5ebd4ef3"
      },
      "execution_count": null,
      "outputs": [
        {
          "output_type": "stream",
          "name": "stdout",
          "text": [
            "['This is a test1This is a test2\\n', 'This is a test3\\n', 'This is a test4\\n', 'This is a test4\\n', 'This is a test4\\n', 'This is a test4\\n', 'This is a test4\\n', 'This is a test4\\n', 'This is a test4\\n', 'This is a test4\\n', 'This is a test4\\n', 'This is a test4\\n', 'This is a test4\\n']\n"
          ]
        }
      ]
    },
    {
      "cell_type": "code",
      "source": [
        "#如果需要附加在檔案最前方，要用r+參數\n",
        "a=open(\"a.txt\",\"r+\") #在檔案的最前方加上資料\n",
        "a.write(\"This is a test5\\n\")\n",
        "a.close()"
      ],
      "metadata": {
        "id": "0zL0xNHFwwLG"
      },
      "execution_count": null,
      "outputs": []
    },
    {
      "cell_type": "code",
      "source": [
        "a=open(\"a.txt\",\"r\")\n",
        "print(a.readlines()) #讀取所有的行\n",
        "a.close()"
      ],
      "metadata": {
        "id": "2zoa4pPWyknO",
        "colab": {
          "base_uri": "https://localhost:8080/"
        },
        "outputId": "e4160b2d-9044-4866-c21c-0bc24629783a"
      },
      "execution_count": null,
      "outputs": [
        {
          "output_type": "stream",
          "name": "stdout",
          "text": [
            "['This is a test4\\n']\n"
          ]
        }
      ]
    }
  ]
}
