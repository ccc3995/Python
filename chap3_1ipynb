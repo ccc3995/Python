{
  "nbformat": 4,
  "nbformat_minor": 0,
  "metadata": {
    "colab": {
      "name": "Chap3-1ipynb",
      "provenance": [],
      "authorship_tag": "ABX9TyPkriL8v/sjgeQCcsOvyqsi",
      "include_colab_link": true
    },
    "kernelspec": {
      "name": "python3",
      "display_name": "Python 3"
    },
    "language_info": {
      "name": "python"
    }
  },
  "cells": [
    {
      "cell_type": "markdown",
      "metadata": {
        "id": "view-in-github",
        "colab_type": "text"
      },
      "source": [
        "<a href=\"https://colab.research.google.com/github/ccc3995/Python/blob/main/Chap3_1ipynb.ipynb\" target=\"_parent\"><img src=\"https://colab.research.google.com/assets/colab-badge.svg\" alt=\"Open In Colab\"/></a>"
      ]
    },
    {
      "cell_type": "markdown",
      "source": [
        "# Tuple (元組)\n",
        "\n",
        "tuple(元组)可視為不可改變的串列,tuple跟list很像,但是我們不能新增,刪除或更新tuple的元素。 tuple的好處有:\n",
        "\n",
        "1佔用較少空間\n",
        "\n",
        "2. 可當作dictionary(字典)的键值 \n",
        "3. 可當作函式引數"
      ],
      "metadata": {
        "id": "GfhJWWEfsvo_"
      }
    },
    {
      "cell_type": "code",
      "execution_count": null,
      "metadata": {
        "colab": {
          "base_uri": "https://localhost:8080/"
        },
        "id": "jvSMoC3lry7O",
        "outputId": "decce286-2fd3-49b8-e93b-f5eb3bc28ce4"
      },
      "outputs": [
        {
          "output_type": "stream",
          "name": "stdout",
          "text": [
            "('python', 'ja', 'SQL')\n",
            "('go', 'c#', 'vb')\n",
            "go\n"
          ]
        }
      ],
      "source": [
        "a_tuple=('python','ja','SQL')\n",
        "print(a_tuple)\n",
        "b_list=['go','c#','vb']\n",
        "b_tuple=tuple(b_list)\n",
        "print(b_tuple)\n",
        "print(b_tuple[0])"
      ]
    },
    {
      "cell_type": "code",
      "source": [
        ""
      ],
      "metadata": {
        "id": "rlt3uNK6tPSu"
      },
      "execution_count": null,
      "outputs": []
    },
    {
      "cell_type": "markdown",
      "source": [
        "字典"
      ],
      "metadata": {
        "id": "jk88sk-xt_1e"
      }
    },
    {
      "cell_type": "code",
      "source": [
        "languages={}\n",
        "a={0:'python',1:'ja',2:'SQL'}\n",
        "print(a[0])\n",
        "print(a[1])\n",
        "print(a[2])\n",
        "\n",
        "b={\"age\":47,\"gender\":\"M\",\"name\":\"suhsien\"}\n",
        "print(b[\"age\"])\n",
        "print(b[\"name\"])\n",
        "print(b[\"gender\"])"
      ],
      "metadata": {
        "colab": {
          "base_uri": "https://localhost:8080/"
        },
        "id": "3jABKcJ8uBoe",
        "outputId": "330f509d-f09b-462c-8d79-ab9f61c4cbea"
      },
      "execution_count": null,
      "outputs": [
        {
          "output_type": "stream",
          "name": "stdout",
          "text": [
            "python\n",
            "ja\n",
            "SQL\n",
            "47\n",
            "suhsien\n",
            "M\n"
          ]
        }
      ]
    },
    {
      "cell_type": "code",
      "source": [
        "languages={'name':'python','version' :\"3.7\"} #索引值(鍵值)可以自訂\n",
        "\n",
        "print(languages['name'])\n",
        "\n",
        "print(languages['version'])\n",
        "\n",
        "print(languages)\n",
        "\n",
        "print(languages.keys())\n",
        "\n",
        "print(languages.values())\n",
        "\n",
        "print(languages.items())\n",
        "\n",
        "print('name' in languages)"
      ],
      "metadata": {
        "colab": {
          "base_uri": "https://localhost:8080/"
        },
        "id": "q2KajT6Fv5B3",
        "outputId": "b1b4c051-7c92-4ad3-9edf-716071875f95"
      },
      "execution_count": null,
      "outputs": [
        {
          "output_type": "stream",
          "name": "stdout",
          "text": [
            "python\n",
            "3.7\n",
            "{'name': 'python', 'version': '3.7'}\n",
            "dict_keys(['name', 'version'])\n",
            "dict_values(['python', '3.7'])\n",
            "dict_items([('name', 'python'), ('version', '3.7')])\n",
            "True\n"
          ]
        }
      ]
    },
    {
      "cell_type": "code",
      "source": [
        "a_list=[1, 2,3, 4, 5]\n",
        "print(a_list*3)"
      ],
      "metadata": {
        "id": "-h63Vp-O3wPH"
      },
      "execution_count": null,
      "outputs": []
    }
  ]
}
