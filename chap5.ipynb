{
  "nbformat": 4,
  "nbformat_minor": 0,
  "metadata": {
    "colab": {
      "name": "chap5.ipynb",
      "provenance": [],
      "authorship_tag": "ABX9TyMlhmA+z8Qglw2KtiVd/bDT",
      "include_colab_link": true
    },
    "kernelspec": {
      "name": "python3",
      "display_name": "Python 3"
    },
    "language_info": {
      "name": "python"
    }
  },
  "cells": [
    {
      "cell_type": "markdown",
      "metadata": {
        "id": "view-in-github",
        "colab_type": "text"
      },
      "source": [
        "<a href=\"https://colab.research.google.com/github/ccc3995/Python/blob/main/chap5.ipynb\" target=\"_parent\"><img src=\"https://colab.research.google.com/assets/colab-badge.svg\" alt=\"Open In Colab\"/></a>"
      ]
    },
    {
      "cell_type": "markdown",
      "source": [
        "#函式\n",
        "\n",
        "* 獨立出來的程式組\n",
        "* 輸出回傳值(一個)\n",
        "* 可以接受傳入值(多個)\n",
        "\n"
      ],
      "metadata": {
        "id": "Ga28CYCberxw"
      }
    },
    {
      "cell_type": "code",
      "execution_count": null,
      "metadata": {
        "colab": {
          "base_uri": "https://localhost:8080/"
        },
        "id": "TGABK13Teqb6",
        "outputId": "fa9e72c9-fc2d-4c98-d40c-786c96b80d8d"
      },
      "outputs": [
        {
          "output_type": "stream",
          "name": "stdout",
          "text": [
            "請輸入員的半徑10\n",
            "圓的面積為: 314.1592653589793\n"
          ]
        }
      ],
      "source": [
        "#傳統的寫法\n",
        "import math\n",
        "radius=eval(input(\"請輸入圓的半徑\"))\n",
        "print(\"圓的面積為:\",radius*radius*math.pi)"
      ]
    },
    {
      "cell_type": "markdown",
      "source": [
        "#園面積計算函式"
      ],
      "metadata": {
        "id": "3FTnIWQyUOC8"
      }
    },
    {
      "cell_type": "code",
      "source": [
        "import math\n",
        "def circle_area(radius):\n",
        "  area = radius * radius * math.pi\n",
        "  return area\n",
        "\n",
        "print(\"半徑10,圓面積為:\",circle_area(10))\n",
        "print(\"半徑5,圓面積為:\",circle_area(5))\n",
        "print(\"半徑20,圓面積為:\",circle_area(20))"
      ],
      "metadata": {
        "colab": {
          "base_uri": "https://localhost:8080/"
        },
        "id": "xApbvgRwhhkw",
        "outputId": "e9ae6c7e-8a4d-41ab-d7f8-7e0a3850ef78"
      },
      "execution_count": null,
      "outputs": [
        {
          "output_type": "stream",
          "name": "stdout",
          "text": [
            "半徑10,圓面積為: 314.1592653589793\n",
            "半徑5,圓面積為: 78.53981633974483\n",
            "半徑20,圓面積為: 1256.6370614359173\n"
          ]
        }
      ]
    }
  ]
}