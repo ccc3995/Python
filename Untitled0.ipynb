{
  "nbformat": 4,
  "nbformat_minor": 0,
  "metadata": {
    "colab": {
      "name": "Untitled0.ipynb",
      "provenance": [],
      "collapsed_sections": [],
      "authorship_tag": "ABX9TyMREM3OqyIVsVk2Ffl6wfZ5",
      "include_colab_link": true
    },
    "kernelspec": {
      "name": "python3",
      "display_name": "Python 3"
    },
    "language_info": {
      "name": "python"
    }
  },
  "cells": [
    {
      "cell_type": "markdown",
      "metadata": {
        "id": "view-in-github",
        "colab_type": "text"
      },
      "source": [
        "<a href=\"https://colab.research.google.com/github/ccc3995/Python/blob/main/Untitled0.ipynb\" target=\"_parent\"><img src=\"https://colab.research.google.com/assets/colab-badge.svg\" alt=\"Open In Colab\"/></a>"
      ]
    },
    {
      "cell_type": "code",
      "execution_count": 1,
      "metadata": {
        "colab": {
          "base_uri": "https://localhost:8080/"
        },
        "id": "dY9UAnlRB0Xr",
        "outputId": "c5f1087c-7343-4ee6-94dc-2ba2c9c23257"
      },
      "outputs": [
        {
          "output_type": "stream",
          "name": "stdout",
          "text": [
            "8\n"
          ]
        }
      ],
      "source": [
        "a=5 #這是單行註解\n",
        "b=3\n",
        "print(a+b)"
      ]
    },
    {
      "cell_type": "code",
      "source": [
        "'''\n",
        "這是多行註解\n",
        "這是多行註解\n",
        "'''\n",
        "a=5\n",
        "b=3\n",
        "print(a+b)"
      ],
      "metadata": {
        "id": "BZ-NbI83aypD"
      },
      "execution_count": null,
      "outputs": []
    },
    {
      "cell_type": "code",
      "source": [
        "a=5\n",
        "b=3\n",
        "#透過第三變數c,交換a,b的值\n",
        "c=aa=b\n",
        "b=c\n",
        "print(a)\n",
        "print(b)"
      ],
      "metadata": {
        "id": "yMJrfnlYa1B7"
      },
      "execution_count": null,
      "outputs": []
    },
    {
      "cell_type": "code",
      "source": [
        "#不透過第三變數，交換a,b的值\n",
        "a=5\n",
        "b=3\n",
        "a=a+b\n",
        "b=a-b\n",
        "a=a-b\n",
        "print(a)\n",
        "print(b)"
      ],
      "metadata": {
        "id": "flH1HU_xa3Gr"
      },
      "execution_count": null,
      "outputs": []
    },
    {
      "cell_type": "code",
      "source": [
        "a=5\n",
        "b=3\n",
        "a,b=b,a\n",
        "print(a)\n",
        "print(b)"
      ],
      "metadata": {
        "id": "-h1IFmkma4wz"
      },
      "execution_count": null,
      "outputs": []
    },
    {
      "cell_type": "code",
      "source": [
        "x,y,z=3,4,5\n",
        "print(x,y,z)"
      ],
      "metadata": {
        "id": "yf5EJnuOa6oi"
      },
      "execution_count": null,
      "outputs": []
    },
    {
      "cell_type": "code",
      "source": [
        "x,y,z=3,4,5\n",
        "x+=1 #x=x+1\n",
        "y*=2 #y=y*2\n",
        "z**=3 #z=z**3\n",
        "print(x,y,z)"
      ],
      "metadata": {
        "id": "1bb4cZ1Qa8iL"
      },
      "execution_count": null,
      "outputs": []
    },
    {
      "cell_type": "code",
      "source": [
        "import math\n",
        "r=10\n",
        "print(r*r*math.pi)"
      ],
      "metadata": {
        "id": "XAEA-NS2a_tj"
      },
      "execution_count": null,
      "outputs": []
    }
  ]
}