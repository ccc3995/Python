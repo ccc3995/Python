{
  "nbformat": 4,
  "nbformat_minor": 0,
  "metadata": {
    "colab": {
      "name": "Untitled2.ipynb",
      "provenance": [],
      "authorship_tag": "ABX9TyN8cbDZesOnsYbP7l33f+Fh",
      "include_colab_link": true
    },
    "kernelspec": {
      "name": "python3",
      "display_name": "Python 3"
    },
    "language_info": {
      "name": "python"
    }
  },
  "cells": [
    {
      "cell_type": "markdown",
      "metadata": {
        "id": "view-in-github",
        "colab_type": "text"
      },
      "source": [
        "<a href=\"https://colab.research.google.com/github/ccc3995/Python/blob/main/Untitled2.ipynb\" target=\"_parent\"><img src=\"https://colab.research.google.com/assets/colab-badge.svg\" alt=\"Open In Colab\"/></a>"
      ]
    },
    {
      "cell_type": "markdown",
      "source": [
        "4/11"
      ],
      "metadata": {
        "id": "5etMogAFXgzG"
      }
    },
    {
      "cell_type": "code",
      "execution_count": null,
      "metadata": {
        "id": "qLLFRFfXW0XM"
      },
      "outputs": [],
      "source": [
        "a=eval(input(\"請輸入數字a:\"))\n",
        "b=eval(input(\"請輸入數字b:\"))\n",
        "if a>b :\n",
        " print(\"a>b\")\n",
        "elif a==b:\n",
        "  print(\"a=b\")\n",
        "else:\n",
        " print(b>a)"
      ]
    },
    {
      "cell_type": "code",
      "source": [
        "grade=87\n",
        "print(\"成績評鑑:\")\n",
        "if grade >= 90:\n",
        "  print(\"優等\")\n",
        "if grade >= 80:\n",
        "  print(\"甲等\")\n",
        "if grade >= 70:\n",
        "  print(\"乙等\")\n",
        "if grade >= 60:\n",
        "  print(\"丙等\")\n",
        "else:\n",
        "  print(\"不及格\")"
      ],
      "metadata": {
        "id": "j7v4jKblXYf1"
      },
      "execution_count": null,
      "outputs": []
    },
    {
      "cell_type": "code",
      "source": [
        "for i in range(10): #range(10): 0,1,2,...9\n",
        "  print(i)"
      ],
      "metadata": {
        "id": "k_5ENqtcXaOf"
      },
      "execution_count": null,
      "outputs": []
    },
    {
      "cell_type": "code",
      "source": [
        "for i in range(0,10,1): #range(0開始，9結束(不包含10，每次進一步)): 0,1,2,...9\n",
        "  print(i)"
      ],
      "metadata": {
        "id": "bUOdehRqXa4F"
      },
      "execution_count": null,
      "outputs": []
    },
    {
      "cell_type": "code",
      "source": [
        "sum=0\n",
        "for count in range(1,11,1):\n",
        "  sum=sum+count\n",
        "print(sum)"
      ],
      "metadata": {
        "id": "HpDAwbBPXcYF"
      },
      "execution_count": null,
      "outputs": []
    },
    {
      "cell_type": "code",
      "source": [
        "for score in [90,100,88,77]:\n",
        "  print(score)"
      ],
      "metadata": {
        "id": "sYgB2bMbXe-9"
      },
      "execution_count": null,
      "outputs": []
    }
  ]
}