{
  "nbformat": 4,
  "nbformat_minor": 0,
  "metadata": {
    "colab": {
      "name": "Untitled1.ipynb",
      "provenance": [],
      "authorship_tag": "ABX9TyMGFeQjZ2WOLPrN6ZrnPQFT",
      "include_colab_link": true
    },
    "kernelspec": {
      "name": "python3",
      "display_name": "Python 3"
    },
    "language_info": {
      "name": "python"
    }
  },
  "cells": [
    {
      "cell_type": "markdown",
      "metadata": {
        "id": "view-in-github",
        "colab_type": "text"
      },
      "source": [
        "<a href=\"https://colab.research.google.com/github/ccc3995/Python/blob/main/Untitled1.ipynb\" target=\"_parent\"><img src=\"https://colab.research.google.com/assets/colab-badge.svg\" alt=\"Open In Colab\"/></a>"
      ]
    },
    {
      "cell_type": "code",
      "execution_count": null,
      "metadata": {
        "id": "cQIGz7rYSa59"
      },
      "outputs": [],
      "source": [
        "import math\n",
        "r=eval(input(\"請輸入圓的半徑\"))\n",
        "print(r*r*math.pi)"
      ]
    },
    {
      "cell_type": "code",
      "source": [
        "x=254\n",
        "print(type(x))\n",
        "y=254.0\n",
        "print(type(y))\n",
        "z=\"write\"\n",
        "print(type(z))\n",
        "print(type(x==y))"
      ],
      "metadata": {
        "id": "NfwV78fsb96u"
      },
      "execution_count": null,
      "outputs": []
    },
    {
      "cell_type": "code",
      "source": [
        "x=10\n",
        "y=3\n",
        "print(x/y)#求值\n",
        "print(x//y)#求商\n",
        "print(x%y)#求餘數"
      ],
      "metadata": {
        "id": "L4j8LlILb_dD"
      },
      "execution_count": null,
      "outputs": []
    },
    {
      "cell_type": "markdown",
      "source": [
        "算術符號的順序\n",
        "()>*>/>+-"
      ],
      "metadata": {
        "id": "Ge6mqEA4cD7_"
      }
    },
    {
      "cell_type": "code",
      "source": [
        "x=(5*(1+2)**2-3+4/2)\n",
        "print(x)"
      ],
      "metadata": {
        "id": "7YGNzM1NcGGb"
      },
      "execution_count": null,
      "outputs": []
    },
    {
      "cell_type": "markdown",
      "source": [
        "型態轉換"
      ],
      "metadata": {
        "id": "XLgxk9cFcI_r"
      }
    },
    {
      "cell_type": "code",
      "source": [
        "x=\"must\"\n",
        "print(10*x)\n",
        "print(\"10\"+x)\n",
        "print(10,x)"
      ],
      "metadata": {
        "id": "rxjn49jYcHmr"
      },
      "execution_count": null,
      "outputs": []
    },
    {
      "cell_type": "code",
      "source": [
        "x=12\n",
        "print(type(x))\n",
        "y=float(x)+0.5 #強制型別轉換\n",
        "print(type(y))\n",
        "print(y)\n",
        "print(int(y))\n",
        "print(int(\"12\"))\n",
        "print(float(\"12.5\"))\n",
        "print(eval(\"5.5*2\"))"
      ],
      "metadata": {
        "id": "iSCq1HtMcKxq"
      },
      "execution_count": null,
      "outputs": []
    },
    {
      "cell_type": "code",
      "source": [
        "print(\"This %10s a book%-10s\"%(\"is\",\"!\"))\n",
        "print(\"%7.3f\"% (687.4333))"
      ],
      "metadata": {
        "id": "t19SqJIgcMSy"
      },
      "execution_count": null,
      "outputs": []
    }
  ]
}